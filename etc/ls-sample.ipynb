{
 "cells": [
  {
   "cell_type": "markdown",
   "metadata": {},
   "source": [
    "## Работа приближенного метода на относительно большой случайной выборке"
   ]
  },
  {
   "cell_type": "code",
   "execution_count": 1,
   "metadata": {
    "collapsed": true
   },
   "outputs": [],
   "source": [
    "import numpy as np\n",
    "from matplotlib import pyplot as plt\n",
    "import os\n",
    "from sklearn.neighbors import KNeighborsRegressor\n",
    "import sklearn.neighbors\n",
    "\n",
    "%matplotlib inline"
   ]
  },
  {
   "cell_type": "code",
   "execution_count": 5,
   "metadata": {},
   "outputs": [],
   "source": [
    "bits = 4096\n",
    "n_neighbours = 128\n",
    "os.environ['LSH_SAMPLE_BITS'] = str(bits)"
   ]
  },
  {
   "cell_type": "code",
   "execution_count": 18,
   "metadata": {},
   "outputs": [],
   "source": [
    "! python ../etc/stub_data_generator.py 100000 ${LSH_SAMPLE_BITS} --out ./ls_stub_train_data\n",
    "! python ../etc/stub_data_generator.py 10000 ${LSH_SAMPLE_BITS} --out ./ls_stub_test_data"
   ]
  },
  {
   "cell_type": "code",
   "execution_count": 3,
   "metadata": {
    "collapsed": true
   },
   "outputs": [],
   "source": [
    "def parse_input(in_file):\n",
    "    rows = file(in_file).readlines()\n",
    "    \n",
    "    N = len(rows)\n",
    "    X = np.zeros((N, bits))\n",
    "    \n",
    "    for row in rows:\n",
    "        row_fields = row.split()\n",
    "        row_id = int(row_fields[0])\n",
    "        for bit in row_fields[1:]:\n",
    "            X[row_id, int(bit)] = 1\n",
    "            \n",
    "    return X"
   ]
  },
  {
   "cell_type": "code",
   "execution_count": 6,
   "metadata": {},
   "outputs": [],
   "source": [
    "gt_knn = KNeighborsRegressor(metric='hamming')\n",
    "X_train = parse_input('./ls_stub_train_data')\n",
    "X_test = parse_input('./ls_stub_test_data')"
   ]
  },
  {
   "cell_type": "code",
   "execution_count": 13,
   "metadata": {},
   "outputs": [
    {
     "data": {
      "text/plain": [
       "<matplotlib.text.Text at 0x10cd10ad0>"
      ]
     },
     "execution_count": 13,
     "metadata": {},
     "output_type": "execute_result"
    },
    {
     "data": {
      "image/png": "[encoded data removed]",
      "text/plain": [
       "<matplotlib.figure.Figure at 0x10cbd01d0>"
      ]
     },
     "metadata": {},
     "output_type": "display_data"
    }
   ],
   "source": [
    "dist = sklearn.neighbors.DistanceMetric.get_metric('hamming')\n",
    "_ = plt.hist((dist.pairwise(X_test[:1000], X_train[:1000]) * bits).ravel())\n",
    "plt.title(\"Pairwise distance from test to train\")"
   ]
  },
  {
   "cell_type": "markdown",
   "metadata": {},
   "source": [
    "Исходя из распределения расстояний от теста до тренировочного набора выберу шар $r_1=50$ и $r_2=75$"
   ]
  },
  {
   "cell_type": "markdown",
   "metadata": {},
   "source": [
    "## LSH k-rnn result"
   ]
  },
  {
   "cell_type": "code",
   "execution_count": null,
   "metadata": {
    "collapsed": true
   },
   "outputs": [],
   "source": [
    "! ./krnn -H 1024 -s1024 -k 32 -r 50 -a 0.5 -t0.1 -d4096  ../etc/ls_stub_train_data ../etc/ls_stub_test_data  > ../etc/ls_stub_result"
   ]
  },
  {
   "cell_type": "markdown",
   "metadata": {},
   "source": [
    "200 МБ памяти, минут 10 на обучение 5 минут на применение"
   ]
  },
  {
   "cell_type": "code",
   "execution_count": 29,
   "metadata": {
    "collapsed": true
   },
   "outputs": [],
   "source": [
    "def parse_result(fname):\n",
    "    rows = file(fname).readlines()\n",
    "    neighbours = []\n",
    "    for row in rows:\n",
    "        neighbours.append([int(x) for x in row.split()[1:]])\n",
    "    return neighbours"
   ]
  },
  {
   "cell_type": "code",
   "execution_count": 36,
   "metadata": {},
   "outputs": [],
   "source": [
    "lsh_result = parse_result('../etc/ls_stub_result')\n",
    "\n",
    "lsh_distances = []\n",
    "for test_id, neighbours in enumerate(lsh_result):\n",
    "    lsh_distances+=list(dist.pairwise(X_test[test_id: test_id+1], X_train[neighbours])[0] * bits)\n",
    "    "
   ]
  },
  {
   "cell_type": "code",
   "execution_count": 37,
   "metadata": {},
   "outputs": [
    {
     "data": {
      "text/plain": [
       "<matplotlib.text.Text at 0x10e225e90>"
      ]
     },
     "execution_count": 37,
     "metadata": {},
     "output_type": "execute_result"
    },
    {
     "data": {
      "image/png": "[encoded data removed]",
      "text/plain": [
       "<matplotlib.figure.Figure at 0x10cdcf190>"
      ]
     },
     "metadata": {},
     "output_type": "display_data"
    }
   ],
   "source": [
    "_ = plt.hist(lsh_distances)\n",
    "plt.title(\"Pairwise distance from test to LSH answers\")"
   ]
  },
  {
   "cell_type": "markdown",
   "metadata": {},
   "source": [
    "Парные расстояния от ответа примерного метода до теста не абсурдные и это радует"
   ]
  },
  {
   "cell_type": "markdown",
   "metadata": {},
   "source": [
    "## Sklearn KNN"
   ]
  },
  {
   "cell_type": "code",
   "execution_count": 7,
   "metadata": {},
   "outputs": [
    {
     "data": {
      "text/plain": [
       "KNeighborsRegressor(algorithm='auto', leaf_size=30, metric='hamming',\n",
       "          metric_params=None, n_jobs=1, n_neighbors=5, p=2,\n",
       "          weights='uniform')"
      ]
     },
     "execution_count": 7,
     "metadata": {},
     "output_type": "execute_result"
    }
   ],
   "source": [
    "gt_knn.fit(X_train, np.ones(len(X_train)))"
   ]
  },
  {
   "cell_type": "code",
   "execution_count": 10,
   "metadata": {},
   "outputs": [
    {
     "name": "stdout",
     "output_type": "stream",
     "text": [
      "CPU times: user 51min 50s, sys: 6.31 s, total: 51min 57s\n",
      "Wall time: 5h 41min 31s\n"
     ]
    }
   ],
   "source": [
    "%time gt_d, gt_neighbours = gt_knn.kneighbors(X_test, 32)"
   ]
  },
  {
   "cell_type": "markdown",
   "metadata": {},
   "source": [
    "4 ГБ памяти, время выше"
   ]
  },
  {
   "cell_type": "code",
   "execution_count": 39,
   "metadata": {},
   "outputs": [
    {
     "data": {
      "text/plain": [
       "<matplotlib.text.Text at 0x1ef79b750>"
      ]
     },
     "execution_count": 39,
     "metadata": {},
     "output_type": "execute_result"
    },
    {
     "data": {
      "image/png": "[encoded data removed]",
      "text/plain": [
       "<matplotlib.figure.Figure at 0x10d711410>"
      ]
     },
     "metadata": {},
     "output_type": "display_data"
    }
   ],
   "source": [
    "_ = plt.hist(gt_d.ravel()* bits)\n",
    "plt.title(\"Pairwise distance from test to GT answers\")"
   ]
  },
  {
   "cell_type": "markdown",
   "metadata": {},
   "source": [
    "Сравни расстояния от ответов честного метода до теста с расстояниями приближенного методы выше, выглядит разумно, ответы приближенного метода дальше, но не сильно."
   ]
  },
  {
   "cell_type": "code",
   "execution_count": 40,
   "metadata": {
    "collapsed": true
   },
   "outputs": [],
   "source": [
    "def ioc(lsh, knn):\n",
    "    r = []\n",
    "    for test_id in range(len(lsh)):\n",
    "        i = len(set(lsh[test_id]) & set(knn[test_id]))\n",
    "        u = len(set(lsh[test_id]) | set(knn[test_id]))\n",
    "        r.append(i / float(u))\n",
    "        \n",
    "        \n",
    "    return np.array(r)\n",
    "\n",
    "ioc_values = ioc(lsh_result, gt_neighbours)"
   ]
  },
  {
   "cell_type": "code",
   "execution_count": 41,
   "metadata": {},
   "outputs": [
    {
     "data": {
      "text/plain": [
       "[<matplotlib.lines.Line2D at 0x1ef930d90>]"
      ]
     },
     "execution_count": 41,
     "metadata": {},
     "output_type": "execute_result"
    },
    {
     "data": {
      "image/png": "[encoded data removed]",
      "text/plain": [
       "<matplotlib.figure.Figure at 0x1ef766e90>"
      ]
     },
     "metadata": {},
     "output_type": "display_data"
    }
   ],
   "source": [
    "plt.title('IOC lsh vs knn')\n",
    "plt.plot(ioc_values)"
   ]
  },
  {
   "cell_type": "markdown",
   "metadata": {},
   "source": [
    "IOC выглядит грустно, но как кажется это предсказуемо - я прошу 32 ближайших соседа расстояния которых будут отличаться на один два бита и выбираю их из выборки в 100000 примеров."
   ]
  },
  {
   "cell_type": "code",
   "execution_count": 48,
   "metadata": {},
   "outputs": [
    {
     "data": {
      "text/plain": [
       "(array([  1.,   0.,   3.,   0.,   0.,   9.,   0.,  14.,   0.,   5.]),\n",
       " array([ 69. ,  69.4,  69.8,  70.2,  70.6,  71. ,  71.4,  71.8,  72.2,\n",
       "         72.6,  73. ]),\n",
       " <a list of 10 Patch objects>)"
      ]
     },
     "execution_count": 48,
     "metadata": {},
     "output_type": "execute_result"
    },
    {
     "data": {
      "image/png": "[encoded data removed]",
      "text/plain": [
       "<matplotlib.figure.Figure at 0x1ef973690>"
      ]
     },
     "metadata": {},
     "output_type": "display_data"
    }
   ],
   "source": [
    "lsh_distances = np.array(lsh_distances).reshape(10000, -1)\n",
    "\n",
    "plt.hist(lsh_distances[5])\n",
    "plt.hist(gt_d[5]*bits, alpha=0.5)"
   ]
  },
  {
   "cell_type": "markdown",
   "metadata": {},
   "source": [
    "Нельзя сказать, что примерный метод (синий) нашел прямо те самые настоящие элементы (рыжий), но если вспомнить о том что я использовал 1024 минихэшей для описания слов размера 4096 то разница в 5-6 бит не выглядит ужасной. Кроме того, эти расстояния у самой кромки шара $r_2$ и в этом смыысле ожидаемы"
   ]
  }
 ],
 "metadata": {
  "kernelspec": {
   "display_name": "Python 2",
   "language": "python",
   "name": "python2"
  },
  "language_info": {
   "codemirror_mode": {
    "name": "ipython",
    "version": 2
   },
   "file_extension": ".py",
   "mimetype": "text/x-python",
   "name": "python",
   "nbconvert_exporter": "python",
   "pygments_lexer": "ipython2",
   "version": "2.7.13"
  }
 },
 "nbformat": 4,
 "nbformat_minor": 2
}
